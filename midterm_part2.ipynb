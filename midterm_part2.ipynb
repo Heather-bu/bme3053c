{
  "nbformat": 4,
  "nbformat_minor": 0,
  "metadata": {
    "colab": {
      "provenance": [],
      "authorship_tag": "ABX9TyOkUqcxgDnfkAvhqQZFS7nW",
      "include_colab_link": true
    },
    "kernelspec": {
      "name": "python3",
      "display_name": "Python 3"
    },
    "language_info": {
      "name": "python"
    }
  },
  "cells": [
    {
      "cell_type": "markdown",
      "metadata": {
        "id": "view-in-github",
        "colab_type": "text"
      },
      "source": [
        "<a href=\"https://colab.research.google.com/github/Heather-bu/bme3053c/blob/main/midterm_part2.ipynb\" target=\"_parent\"><img src=\"https://colab.research.google.com/assets/colab-badge.svg\" alt=\"Open In Colab\"/></a>"
      ]
    },
    {
      "cell_type": "markdown",
      "source": [
        "Your goal is to recreate a neural network from scratch and train it on the MNIST dataset! You are free to use Cursor to assist you with this assignment.\n",
        "\n",
        "\n",
        "\n",
        "\n",
        "\n",
        "Part 1:\n",
        "\n",
        "Follow the steps in the first link below to compute the forward and backward passes of the neural network. Use the 2nd link to assist you with this task (look at the last cell). Use the same weights and inputs and print out the new weights connected to the hidden and output layers. (You should print the exact weight values computed in the first link)\n",
        "\n",
        " https://mattmazur.com/2015/03/17/a-step-by-step-backpropagation-example/Links to an external site.\n",
        "\n",
        "https://github.com/snsie/ai-webdev/blob/main/lessons/lesson-02/lesson-02.solutions.ipynbLinks to an external site.\n",
        "\n",
        "Part 2:\n",
        "\n",
        "Create a neural network using Numpy and train it on the MNIST dataset. (Cursor will assist you)\n",
        "\n",
        "Evaluate the accuracy and F1 scores for each of the 10 digits. Use figures to visualize your results.\n",
        "\n",
        "#"
      ],
      "metadata": {
        "id": "HPj3hB_UDWYA"
      }
    },
    {
      "cell_type": "code",
      "source": [],
      "metadata": {
        "id": "BZKgiQUyDjdt"
      },
      "execution_count": null,
      "outputs": []
    }
  ]
}