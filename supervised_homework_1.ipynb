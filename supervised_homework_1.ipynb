{
  "cells": [
    {
      "cell_type": "markdown",
      "metadata": {
        "id": "view-in-github",
        "colab_type": "text"
      },
      "source": [
        "<a href=\"https://colab.research.google.com/github/Heather-bu/bme3053c/blob/main/supervised_homework_1.ipynb\" target=\"_parent\"><img src=\"https://colab.research.google.com/assets/colab-badge.svg\" alt=\"Open In Colab\"/></a>"
      ]
    },
    {
      "cell_type": "markdown",
      "metadata": {
        "id": "v8LkLtl86ndK"
      },
      "source": [
        "# MNIST Digit Classification\n",
        "##### In this assignment, you will work with the [MNIST handwritten digits dataset](http://yann.lecun.com/exdb/mnist/) to implement and compare two supervised learning algorithms: Logistic Regression and Neural Networks. You will gain hands-on experience with data preprocessing, model training, evaluation, and visualization techniques commonly used in machine learning.\n"
      ]
    },
    {
      "cell_type": "code",
      "execution_count": 1,
      "metadata": {
        "id": "gfq2f_IW6ndN"
      },
      "outputs": [],
      "source": [
        "import numpy as np\n",
        "import pandas as pd\n",
        "import matplotlib.pyplot as plt\n",
        "\n",
        "try:\n",
        "    from sklearn.datasets import fetch_openml\n",
        "    from sklearn.model_selection import train_test_split\n",
        "    from sklearn.linear_model import LogisticRegression\n",
        "    from sklearn.preprocessing import StandardScaler\n",
        "    from sklearn.metrics import accuracy_score, classification_report, confusion_matrix\n",
        "    from sklearn.neural_network import MLPClassifier\n",
        "    import seaborn as sns\n",
        "except ImportError as e:\n",
        "    import subprocess\n",
        "    import sys\n",
        "\n",
        "    print(f\"Missing package: {str(e).split()[-1]}\")\n",
        "    print(\"Installing required packages...\")\n",
        "    %pip install scikit-learn\n",
        "    %pip install seaborn\n"
      ]
    },
    {
      "cell_type": "markdown",
      "metadata": {
        "id": "crfiVmGK6ndO"
      },
      "source": [
        "### Part 1: Data Loading and Exploration (4 points)\n",
        "1. Load the MNIST dataset using fetch_openml\n",
        "2. Print the following dataset characteristics:\n",
        "   - Dataset dimensions and size\n",
        "   - Number of classes\n",
        "3. Visualize sample digits from the dataset\n"
      ]
    },
    {
      "cell_type": "code",
      "execution_count": null,
      "metadata": {
        "id": "oVtavyBT6ndP"
      },
      "outputs": [],
      "source": [
        "#Provide your code for part 1-1 here\n"
      ]
    },
    {
      "cell_type": "code",
      "execution_count": null,
      "metadata": {
        "id": "_2BM9_kO6ndP"
      },
      "outputs": [],
      "source": [
        "#Provide your code for part 1-2 here\n"
      ]
    },
    {
      "cell_type": "code",
      "execution_count": null,
      "metadata": {
        "id": "GIITlu2P6ndP"
      },
      "outputs": [],
      "source": [
        "#Provide your code for part 1-3 here\n"
      ]
    },
    {
      "cell_type": "markdown",
      "metadata": {
        "id": "uWAoDbye6ndQ"
      },
      "source": [
        "### Part 2: Data Preprocessing (4 points)\n",
        "1. Scale the pixel values to range [0,1] by dividing by 255\n",
        "2. Split the data into training (80%) and testing (20%) sets\n",
        "3. Create a StandardScaler object and fit it on the training data\n",
        "4. Transform both training and test data using the fitted scaler\n",
        "5. Print the shapes of the resulting training and test sets\n"
      ]
    },
    {
      "cell_type": "code",
      "execution_count": null,
      "metadata": {
        "id": "Ov7J9LD46ndQ"
      },
      "outputs": [],
      "source": [
        "# Provide your code for part 2 here"
      ]
    },
    {
      "cell_type": "markdown",
      "metadata": {
        "id": "GCXqOdhh6ndQ"
      },
      "source": [
        "### Part 3: Model Training and Evaluation (8 points)\n",
        "1. Train a Logistic Regression model using the training data. Use the default parameters.\n",
        "2. Train a Neural Network model using the training data. The neural network should have 2 hidden layers with 100 and 50 neurons respectively. Use the Adam optimizer and a learning rate of 0.001."
      ]
    },
    {
      "cell_type": "code",
      "execution_count": null,
      "metadata": {
        "id": "nIBY0uev6ndR"
      },
      "outputs": [],
      "source": [
        "# Provide your code for part 3-1 here\n"
      ]
    },
    {
      "cell_type": "code",
      "execution_count": null,
      "metadata": {
        "id": "O5tuNiRQ6ndR"
      },
      "outputs": [],
      "source": [
        "# Provide your code for part 3-2 here\n"
      ]
    },
    {
      "cell_type": "markdown",
      "metadata": {
        "id": "2yDVthq16ndS"
      },
      "source": [
        "### Part 4: Model Comparison and Visualization (4 points)\n",
        "1. Use a bar plot to compare the accuracy of both models on the test data\n",
        "2. Print the classification report and confusion matrix for both models\n",
        "3. Visualize the misclassified examples for both models\n"
      ]
    },
    {
      "cell_type": "code",
      "execution_count": null,
      "metadata": {
        "id": "kfabWwlK6ndS"
      },
      "outputs": [],
      "source": [
        "# Provide your code for part 4-1 here\n"
      ]
    },
    {
      "cell_type": "code",
      "execution_count": null,
      "metadata": {
        "id": "9Yii7m0x6ndS"
      },
      "outputs": [],
      "source": [
        "# Provide your code for part 4-2 here"
      ]
    },
    {
      "cell_type": "code",
      "execution_count": null,
      "metadata": {
        "id": "pjnLWWsA6ndS"
      },
      "outputs": [],
      "source": [
        "# Provide your code for part 4-3 here\n"
      ]
    }
  ],
  "metadata": {
    "kernelspec": {
      "display_name": ".venv",
      "language": "python",
      "name": "python3"
    },
    "language_info": {
      "codemirror_mode": {
        "name": "ipython",
        "version": 3
      },
      "file_extension": ".py",
      "mimetype": "text/x-python",
      "name": "python",
      "nbconvert_exporter": "python",
      "pygments_lexer": "ipython3",
      "version": "3.13.0"
    },
    "colab": {
      "provenance": [],
      "include_colab_link": true
    }
  },
  "nbformat": 4,
  "nbformat_minor": 0
}